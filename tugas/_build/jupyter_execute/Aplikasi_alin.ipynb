{
 "cells": [
  {
   "cell_type": "markdown",
   "metadata": {},
   "source": [
    "# Contoh Aplikasi Aljabar Linier"
   ]
  },
  {
   "cell_type": "markdown",
   "metadata": {},
   "source": [
    "## Algoritma PageRank\n",
    "Algoritma PageRank adalah sebuah algoritma yang digunakan oleh mesin pencari Google untuk menentukan peringkat halaman web dalam hasil pencarian mereka. Algoritma ini dikembangkan oleh Larry Page dan Sergey Brin pada tahun 1996 saat mereka masih mahasiswa di Universitas Stanford. Ini pertama kali digunakan untuk menentukan peringkat halaman web di mesin pencari Google. Saat ini, semakin banyak digunakan di berbagai bidang, misalnya dalam menentukan peringkat pengguna di media sosial dll"
   ]
  },
  {
   "cell_type": "markdown",
   "metadata": {},
   "source": [
    "## Penerapan PageRank Menggunakan Python"
   ]
  },
  {
   "cell_type": "code",
   "execution_count": 1,
   "metadata": {},
   "outputs": [
    {
     "name": "stdout",
     "output_type": "stream",
     "text": [
      "Hasil konvergen:\n",
      "[0.11150739 0.293549   0.14974089 0.11342783 0.33177488]\n",
      "\n",
      "Jumlah iterasi: 7\n",
      "\n",
      "Nilai PageRank yang diurutkan:\n",
      "Halaman 0: 0.3317748818777625\n",
      "Halaman 1: 0.29354900167657366\n",
      "Halaman 2: 0.149740893156531\n",
      "Halaman 3: 0.11342783112330437\n",
      "Halaman 4: 0.11150739216582836\n"
     ]
    }
   ],
   "source": [
    "import numpy as np\n",
    "\n",
    "def perkalianMatrix(A, V, conv=0.01, itr=0):\n",
    "    # Mengalikan matriks A dengan vektor V\n",
    "    A_ = A.dot(V)\n",
    "    \n",
    "    # Memeriksa apakah konvergen (perubahan kurang dari ambang batas)\n",
    "    if np.linalg.norm(A_ - V) < conv:\n",
    "        return A_, itr\n",
    "    else:\n",
    "        # Jika belum konvergen, lanjutkan iterasi dengan matriks baru\n",
    "        return perkalianMatrix(A, A_, conv, itr+1)\n",
    "\n",
    "# Matriks A (matriks tautan)\n",
    "A = np.array([[0, 0, 0, 0, 1/3],\n",
    "              [0, 0, 1/2, 1, 1/3],\n",
    "              [1/3, 0, 0, 0, 1/3],\n",
    "              [1/3, 0, 1/2, 0, 0],\n",
    "              [1/3, 1, 0, 0, 0]])\n",
    "\n",
    "# Vektor PageRank awal (semua halaman memiliki nilai awal 0.2)\n",
    "V = np.array([0.2, 0.2, 0.2, 0.2, 0.2])\n",
    "\n",
    "# Hitung PageRank\n",
    "hasil, iterasi = perkalianMatrix(A, V)\n",
    "\n",
    "# Tampilkan hasil\n",
    "print(\"Hasil konvergen:\")\n",
    "print(hasil)\n",
    "print()\n",
    "print(\"Jumlah iterasi:\", iterasi)\n",
    "print()\n",
    "\n",
    "# Urutkan nilai PageRank\n",
    "hasil_terurut = sorted(hasil, reverse=True)\n",
    "print(\"Nilai PageRank yang diurutkan:\")\n",
    "for i, pr in enumerate(hasil_terurut):\n",
    "    print(f\"Halaman {i}: {pr:}\")"
   ]
  },
  {
   "cell_type": "markdown",
   "metadata": {},
   "source": [
    "## Penjelasan\n",
    "\n",
    "1. **Hasil Konvergen**:\n",
    "\n",
    "   Hasil konvergen adalah:\n",
    "\n",
    "   \\[ $\\text{PageRank} = \\begin{bmatrix}\n",
    "   0.331 \\\\\n",
    "   0.293 \\\\\n",
    "   0.149 \\\\\n",
    "   0.113 \\\\\n",
    "   0.331 \\\\\n",
    "   \\end{bmatrix}$ \\]\n",
    "\n",
    "2. **Nilai PageRank yang Diurutkan**:\n",
    "\n",
    "   Nilai PageRank yang diurutkan dari yang tertinggi ke terendah:\n",
    "\n",
    "   - Halaman 1: 0.331\n",
    "   - Halaman 2: 0.293\n",
    "   - Halaman 3: 0.149\n",
    "   - Halaman 4: 0.113\n",
    "   - Halaman 5: 0.111"
   ]
  }
 ],
 "metadata": {
  "kernelspec": {
   "display_name": "Python 3 (ipykernel)",
   "language": "python",
   "name": "python3"
  },
  "language_info": {
   "codemirror_mode": {
    "name": "ipython",
    "version": 3
   },
   "file_extension": ".py",
   "mimetype": "text/x-python",
   "name": "python",
   "nbconvert_exporter": "python",
   "pygments_lexer": "ipython3",
   "version": "3.10.13"
  }
 },
 "nbformat": 4,
 "nbformat_minor": 2
}