{
 "cells": [
  {
   "cell_type": "markdown",
   "metadata": {},
   "source": [
    "## Menggambar Bidang pada Ruang Tiga Dimensi menggunakan Matplotlib"
   ]
  },
  {
   "cell_type": "markdown",
   "metadata": {},
   "source": [
    "_PERSAMAAN YANG AKAN DI GAMBAR:_  \n",
    "\n",
    "$8x_1 + 9x_2 + x_3 = 19$  \n",
    "$x_1 + 2x_2 + 3x_3 = 9$  \n",
    "$2x_1 + x_2 + x_3 = 5$    "
   ]
  },
  {
   "cell_type": "code",
   "execution_count": 1,
   "metadata": {},
   "outputs": [
    {
     "ename": "ModuleNotFoundError",
     "evalue": "No module named 'numpy'",
     "output_type": "error",
     "traceback": [
      "\u001b[1;31m---------------------------------------------------------------------------\u001b[0m",
      "\u001b[1;31mModuleNotFoundError\u001b[0m                       Traceback (most recent call last)",
      "Cell \u001b[1;32mIn[1], line 2\u001b[0m\n\u001b[0;32m      1\u001b[0m \u001b[38;5;66;03m#code\u001b[39;00m\n\u001b[1;32m----> 2\u001b[0m \u001b[38;5;28;01mimport\u001b[39;00m \u001b[38;5;21;01mnumpy\u001b[39;00m \u001b[38;5;28;01mas\u001b[39;00m \u001b[38;5;21;01mnp\u001b[39;00m\n\u001b[0;32m      3\u001b[0m \u001b[38;5;28;01mimport\u001b[39;00m \u001b[38;5;21;01mmatplotlib\u001b[39;00m\u001b[38;5;21;01m.\u001b[39;00m\u001b[38;5;21;01mpyplot\u001b[39;00m \u001b[38;5;28;01mas\u001b[39;00m \u001b[38;5;21;01mplt\u001b[39;00m\n\u001b[0;32m      5\u001b[0m \u001b[38;5;66;03m# Membuat Rentang x1 dan x2\u001b[39;00m\n",
      "\u001b[1;31mModuleNotFoundError\u001b[0m: No module named 'numpy'"
     ]
    }
   ],
   "source": [
    "#code\n",
    "import numpy as np\n",
    "import matplotlib.pyplot as plt\n",
    "\n",
    "# Membuat Rentang x1 dan x2\n",
    "rentang_x1 = np.linspace(-10,10,50) # membuat garis x1 dengan rentang -10 dampai 10, dan 50 untuk resolusi bidang yang akan kita buat\n",
    "rentang_x2 = np.linspace(-10,10,50)\n",
    "\n",
    "# Mencari x1, x2 dan x3\n",
    "x1, x2 = np.meshgrid(rentang_x1, rentang_x2)\n",
    "\n",
    "x3_1 = 19 - 8*x1 - 9*x2 \n",
    "x3_2 = (9 - x1 - 2*x2) / 3 \n",
    "x3_3 = 5 - 2*x1 - x2\n",
    "\n",
    "# Membuat bidang\n",
    "fig = plt.figure()\n",
    "ax = fig.add_subplot(111, projection=\"3d\")\n",
    "\n",
    "# Membuat bidang persamaan 1\n",
    "# keterangan : \n",
    "# alpha = transparansi\n",
    "# rstride = kepadatan gambar sumbu x1\n",
    "# cstride = kepadatan gambar sumbu x2\n",
    "# color = warna bidang\n",
    "ax.plot_surface(x1,x2,x3_1, alpha=0.5, rstride=100, cstride=100, color=\"r\", label=\"8x1 + 9x2 + x3 = 19\")\n",
    "# membuat bidang persamaan 2\n",
    "ax.plot_surface(x1,x2,x3_2, alpha=0.5, rstride=100, cstride=100, color=\"g\", label=\"x1 + 2x2 + 3x3 = 9\")\n",
    "# Membuat bidang persamaan 3\n",
    "ax.plot_surface(x1,x2,x3_3, alpha=0.5, rstride=100, cstride=100, color=\"b\", label=\"2x1 + x2 + x3 = 5\")\n",
    "\n",
    "# membuat ketrangan sumbu\n",
    "ax.set_xlabel(\"X1\")\n",
    "ax.set_ylabel(\"X2\")\n",
    "ax.set_zlabel(\"X3\")\n",
    "\n",
    "# Menggambar bidang\n",
    "plt.legend()\n",
    "plt.show()\n",
    "\n"
   ]
  }
 ],
 "metadata": {
  "kernelspec": {
   "display_name": "myvenv",
   "language": "python",
   "name": "python3"
  },
  "language_info": {
   "codemirror_mode": {
    "name": "ipython",
    "version": 3
   },
   "file_extension": ".py",
   "mimetype": "text/x-python",
   "name": "python",
   "nbconvert_exporter": "python",
   "pygments_lexer": "ipython3",
   "version": "3.12.0"
  }
 },
 "nbformat": 4,
 "nbformat_minor": 2
}
